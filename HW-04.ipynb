{
 "metadata": {
  "language_info": {
   "codemirror_mode": {
    "name": "ipython",
    "version": 3
   },
   "file_extension": ".py",
   "mimetype": "text/x-python",
   "name": "python",
   "nbconvert_exporter": "python",
   "pygments_lexer": "ipython3",
   "version": "3.7.6-final"
  },
  "orig_nbformat": 2,
  "kernelspec": {
   "name": "python3",
   "display_name": "Python 3",
   "language": "python"
  }
 },
 "nbformat": 4,
 "nbformat_minor": 2,
 "cells": [
  {
   "cell_type": "code",
   "execution_count": 103,
   "metadata": {},
   "outputs": [],
   "source": [
    "import plotly.express as px\n",
    "import os\n",
    "import geopandas as gpd\n",
    "from shapely.geometry import Point, LineString\n",
    "from shapely.geometry.polygon import Polygon\n",
    "import folium\n",
    "from openrouteservice import client\n",
    "from shapely import geometry\n",
    "from shapely.geometry import shape, Polygon, mapping, MultiPolygon, LineString, Point\n",
    "from shapely.ops import cascaded_union, transform\n",
    "from OSMPythonTools.overpass import overpassQueryBuilder, Overpass\n",
    "import pandas as pd\n",
    "import os\n",
    "from geopy.distance import distance\n",
    "import numpy as np\n",
    "import matplotlib.pyplot as plt\n",
    "import matplotlib.lines as mlines\n",
    "from matplotlib.colors import ListedColormap\n",
    "import seaborn as sns\n",
    "from shapely.geometry import box\n",
    "import geopandas as gpd\n",
    "import earthpy as et\n",
    "from random import uniform\n",
    "from folium.plugins import TimestampedGeoJson\n",
    "import overpy\n",
    "import requests\n",
    "import json\n",
    "import rtree.index\n",
    "from math import radians, cos, sin, asin, sqrt\n",
    "import pyproj\n",
    "import pandas as pd\n",
    "import numpy as np\n",
    "from scipy.stats import randint\n",
    "import seaborn as sns # used for plot interactive graph. \n",
    "import matplotlib.pyplot as plt\n",
    "import seaborn as sns\n",
    "from io import StringIO\n",
    "from sklearn.feature_extraction.text import TfidfVectorizer\n",
    "from sklearn.feature_selection import chi2\n",
    "from IPython.display import display\n",
    "from sklearn.model_selection import train_test_split\n",
    "from sklearn.feature_extraction.text import TfidfTransformer\n",
    "from sklearn.naive_bayes import MultinomialNB\n",
    "from sklearn.linear_model import LogisticRegression\n",
    "from sklearn.ensemble import RandomForestClassifier\n",
    "from sklearn.svm import LinearSVC\n",
    "from sklearn.model_selection import cross_val_score\n",
    "from sklearn.metrics import confusion_matrix\n",
    "from sklearn import metrics\n",
    "from nltk.corpus import stopwords\n",
    "import nltk\n",
    "from shapely.geometry import Point\n",
    "import re\n",
    "from nltk.tokenize import word_tokenize\n",
    "import string\n",
    "from nltk.stem.porter import PorterStemmer\n",
    "import seaborn as sns\n",
    "import re\n",
    "from sklearn.pipeline import Pipeline\n",
    "from sklearn.multiclass import OneVsRestClassifier\n",
    "%matplotlib inline\n",
    "import re\n",
    "import matplotlib\n",
    "import numpy as np\n",
    "import matplotlib.pyplot as plt\n",
    "import pandas as pd\n",
    "from sklearn.model_selection import train_test_split\n",
    "from sklearn.feature_extraction.text import TfidfVectorizer\n",
    "from sklearn.naive_bayes import MultinomialNB\n",
    "from sklearn.metrics import accuracy_score\n",
    "from sklearn.multiclass import OneVsRestClassifier\n",
    "from nltk.corpus import stopwords\n",
    "from sklearn.svm import LinearSVC\n",
    "from sklearn.linear_model import LogisticRegression\n",
    "from sklearn.pipeline import Pipeline\n",
    "import seaborn as sns\n",
    "from sklearn.model_selection import GridSearchCV\n",
    "from sklearn.metrics import f1_score\n",
    "import geopandas as gpd\n",
    "from sklearn.linear_model import LinearRegression\n",
    "from sklearn.preprocessing import StandardScaler\n",
    "from sklearn import linear_model\n",
    "import geopy\n",
    "import xgboost as xgb\n",
    "from xgboost import XGBRegressor\n",
    "from scipy import stats\n",
    "from scipy.optimize import minimize\n",
    "from sklearn.preprocessing import MinMaxScaler\n",
    "from catboost import CatBoostRegressor\n",
    "import joblib\n",
    "import pickle"
   ]
  },
  {
   "cell_type": "code",
   "execution_count": 14,
   "metadata": {},
   "outputs": [],
   "source": [
    "df = pd.read_csv('train.csv')"
   ]
  },
  {
   "cell_type": "code",
   "execution_count": 15,
   "metadata": {},
   "outputs": [
    {
     "output_type": "execute_result",
     "data": {
      "text/plain": [
       "                 id       host_id      latitude     longitude  accommodates  \\\n",
       "count  5.181500e+04  5.181500e+04  51815.000000  51815.000000  51815.000000   \n",
       "mean   2.238119e+07  8.122630e+07     51.509058     -0.127937      3.225089   \n",
       "std    4.648209e+06  6.712667e+07      0.045575      0.092781      2.002458   \n",
       "min    1.278600e+05  4.775000e+03     51.294794     -0.501305      1.000000   \n",
       "25%    1.874920e+07  2.049720e+07     51.486162     -0.187733      2.000000   \n",
       "50%    2.235012e+07  6.358767e+07     51.513346     -0.126478      2.000000   \n",
       "75%    2.655883e+07  1.362233e+08     51.535516     -0.070239      4.000000   \n",
       "max    2.979850e+07  2.241824e+08     51.679199      0.285395     20.000000   \n",
       "\n",
       "          bathrooms      bedrooms          beds  square_feet  \\\n",
       "count  51812.000000  51796.000000  51743.000000    15.000000   \n",
       "mean       1.294227      1.399027      1.773438   991.133333   \n",
       "std        0.620269      0.907317      1.224066   933.178965   \n",
       "min        0.000000      0.000000      0.000000     0.000000   \n",
       "25%        1.000000      1.000000      1.000000   242.000000   \n",
       "50%        1.000000      1.000000      1.000000   753.000000   \n",
       "75%        1.500000      2.000000      2.000000  1600.000000   \n",
       "max       14.000000     12.000000     16.000000  3000.000000   \n",
       "\n",
       "       security_deposit  cleaning_fee  guests_included  extra_people  \\\n",
       "count      33897.000000  38364.000000     51815.000000  51815.000000   \n",
       "mean         192.249019     42.472891         1.561401      7.052359   \n",
       "std          310.090851     44.525508         1.282639     13.353841   \n",
       "min            0.000000      0.000000         1.000000      0.000000   \n",
       "25%            0.000000     15.000000         1.000000      0.000000   \n",
       "50%          100.000000     30.000000         1.000000      0.000000   \n",
       "75%          250.000000     60.000000         2.000000     10.000000   \n",
       "max         4098.000000    614.000000        30.000000    235.000000   \n",
       "\n",
       "       minimum_nights         price  \n",
       "count    51815.000000  51815.000000  \n",
       "mean         3.959548    115.015787  \n",
       "std         13.994390    201.599587  \n",
       "min          1.000000      0.000000  \n",
       "25%          1.000000     45.000000  \n",
       "50%          2.000000     80.000000  \n",
       "75%          3.000000    135.000000  \n",
       "max       1125.000000  13700.000000  "
      ],
      "text/html": "<div>\n<style scoped>\n    .dataframe tbody tr th:only-of-type {\n        vertical-align: middle;\n    }\n\n    .dataframe tbody tr th {\n        vertical-align: top;\n    }\n\n    .dataframe thead th {\n        text-align: right;\n    }\n</style>\n<table border=\"1\" class=\"dataframe\">\n  <thead>\n    <tr style=\"text-align: right;\">\n      <th></th>\n      <th>id</th>\n      <th>host_id</th>\n      <th>latitude</th>\n      <th>longitude</th>\n      <th>accommodates</th>\n      <th>bathrooms</th>\n      <th>bedrooms</th>\n      <th>beds</th>\n      <th>square_feet</th>\n      <th>security_deposit</th>\n      <th>cleaning_fee</th>\n      <th>guests_included</th>\n      <th>extra_people</th>\n      <th>minimum_nights</th>\n      <th>price</th>\n    </tr>\n  </thead>\n  <tbody>\n    <tr>\n      <th>count</th>\n      <td>5.181500e+04</td>\n      <td>5.181500e+04</td>\n      <td>51815.000000</td>\n      <td>51815.000000</td>\n      <td>51815.000000</td>\n      <td>51812.000000</td>\n      <td>51796.000000</td>\n      <td>51743.000000</td>\n      <td>15.000000</td>\n      <td>33897.000000</td>\n      <td>38364.000000</td>\n      <td>51815.000000</td>\n      <td>51815.000000</td>\n      <td>51815.000000</td>\n      <td>51815.000000</td>\n    </tr>\n    <tr>\n      <th>mean</th>\n      <td>2.238119e+07</td>\n      <td>8.122630e+07</td>\n      <td>51.509058</td>\n      <td>-0.127937</td>\n      <td>3.225089</td>\n      <td>1.294227</td>\n      <td>1.399027</td>\n      <td>1.773438</td>\n      <td>991.133333</td>\n      <td>192.249019</td>\n      <td>42.472891</td>\n      <td>1.561401</td>\n      <td>7.052359</td>\n      <td>3.959548</td>\n      <td>115.015787</td>\n    </tr>\n    <tr>\n      <th>std</th>\n      <td>4.648209e+06</td>\n      <td>6.712667e+07</td>\n      <td>0.045575</td>\n      <td>0.092781</td>\n      <td>2.002458</td>\n      <td>0.620269</td>\n      <td>0.907317</td>\n      <td>1.224066</td>\n      <td>933.178965</td>\n      <td>310.090851</td>\n      <td>44.525508</td>\n      <td>1.282639</td>\n      <td>13.353841</td>\n      <td>13.994390</td>\n      <td>201.599587</td>\n    </tr>\n    <tr>\n      <th>min</th>\n      <td>1.278600e+05</td>\n      <td>4.775000e+03</td>\n      <td>51.294794</td>\n      <td>-0.501305</td>\n      <td>1.000000</td>\n      <td>0.000000</td>\n      <td>0.000000</td>\n      <td>0.000000</td>\n      <td>0.000000</td>\n      <td>0.000000</td>\n      <td>0.000000</td>\n      <td>1.000000</td>\n      <td>0.000000</td>\n      <td>1.000000</td>\n      <td>0.000000</td>\n    </tr>\n    <tr>\n      <th>25%</th>\n      <td>1.874920e+07</td>\n      <td>2.049720e+07</td>\n      <td>51.486162</td>\n      <td>-0.187733</td>\n      <td>2.000000</td>\n      <td>1.000000</td>\n      <td>1.000000</td>\n      <td>1.000000</td>\n      <td>242.000000</td>\n      <td>0.000000</td>\n      <td>15.000000</td>\n      <td>1.000000</td>\n      <td>0.000000</td>\n      <td>1.000000</td>\n      <td>45.000000</td>\n    </tr>\n    <tr>\n      <th>50%</th>\n      <td>2.235012e+07</td>\n      <td>6.358767e+07</td>\n      <td>51.513346</td>\n      <td>-0.126478</td>\n      <td>2.000000</td>\n      <td>1.000000</td>\n      <td>1.000000</td>\n      <td>1.000000</td>\n      <td>753.000000</td>\n      <td>100.000000</td>\n      <td>30.000000</td>\n      <td>1.000000</td>\n      <td>0.000000</td>\n      <td>2.000000</td>\n      <td>80.000000</td>\n    </tr>\n    <tr>\n      <th>75%</th>\n      <td>2.655883e+07</td>\n      <td>1.362233e+08</td>\n      <td>51.535516</td>\n      <td>-0.070239</td>\n      <td>4.000000</td>\n      <td>1.500000</td>\n      <td>2.000000</td>\n      <td>2.000000</td>\n      <td>1600.000000</td>\n      <td>250.000000</td>\n      <td>60.000000</td>\n      <td>2.000000</td>\n      <td>10.000000</td>\n      <td>3.000000</td>\n      <td>135.000000</td>\n    </tr>\n    <tr>\n      <th>max</th>\n      <td>2.979850e+07</td>\n      <td>2.241824e+08</td>\n      <td>51.679199</td>\n      <td>0.285395</td>\n      <td>20.000000</td>\n      <td>14.000000</td>\n      <td>12.000000</td>\n      <td>16.000000</td>\n      <td>3000.000000</td>\n      <td>4098.000000</td>\n      <td>614.000000</td>\n      <td>30.000000</td>\n      <td>235.000000</td>\n      <td>1125.000000</td>\n      <td>13700.000000</td>\n    </tr>\n  </tbody>\n</table>\n</div>"
     },
     "metadata": {},
     "execution_count": 15
    }
   ],
   "source": [
    "df.describe()"
   ]
  },
  {
   "cell_type": "code",
   "execution_count": 7,
   "metadata": {},
   "outputs": [],
   "source": [
    "#fig = px.histogram(df, x=\"price\")\n",
    "#fig.show()"
   ]
  },
  {
   "cell_type": "code",
   "execution_count": 8,
   "metadata": {},
   "outputs": [],
   "source": [
    "#fig = px.box(df, x=\"price\")\n",
    "#fig.show()"
   ]
  },
  {
   "cell_type": "code",
   "execution_count": 23,
   "metadata": {
    "tags": []
   },
   "outputs": [],
   "source": [
    "def preprocessing(df, MODE):\n",
    "    center = Point((-0.1424,51.5023), 4326)\n",
    "    numerics = ['int16', 'int32', 'int64', 'float16', 'float32', 'float64']\n",
    "    gdf = df.select_dtypes(include=numerics)\n",
    "    newdf = gpd.GeoDataFrame(\n",
    "    gdf, geometry = gpd.points_from_xy(x=gdf.longitude, y=gdf.latitude)\n",
    "    )\n",
    "    column_means = newdf.median()\n",
    "    newdf = newdf.fillna(column_means)\n",
    "    newdf[\"bathrooms\"] = newdf[\"bathrooms\"].astype(float).astype(int)\n",
    "    newdf[\"bedrooms\"] = newdf[\"bedrooms\"].astype(float).astype(int)\n",
    "    newdf[\"beds\"] = newdf[\"beds\"].astype(float).astype(int)\n",
    "    newdf[\"extra_people\"] = newdf[\"extra_people\"].astype(float).astype(int)\n",
    "    newdf = newdf.drop(['id','latitude','longitude','host_id', 'square_feet'], axis = 1)\n",
    "    newdf['london'] = 0\n",
    "    for index, row in newdf.iterrows():\n",
    "        newdf.loc[index,'london'] = haversine(center.x,center.y,row['geometry'].x,row['geometry'].y)\n",
    "    newdf = newdf.drop(['geometry','beds','bedrooms','bathrooms','guests_included'], axis = 1)\n",
    "    if MODE == 'train':\n",
    "        newdf = newdf[newdf['price'] > 0]\n",
    "        sns.heatmap(newdf.corr())\n",
    "        return newdf\n",
    "    return newdf\n",
    "def haversine(lon1, lat1, lon2, lat2):\n",
    "    lon1, lat1, lon2, lat2 = map(radians, [lon1, lat1, lon2, lat2])\n",
    "    dlon = lon2 - lon1 \n",
    "    dlat = lat2 - lat1 \n",
    "    a = sin(dlat/2) ** 2 + cos(lat1) * cos(lat2) * sin(dlon/2) ** 2\n",
    "    c = 2 * asin(sqrt(a)) \n",
    "    r = 6371\n",
    "    return c * r\n",
    "def mean_absolute_percentage_error(y_true, y_pred):\n",
    "    y_true, y_pred = np.array(y_true), np.array(y_pred)\n",
    "    return np.mean(np.abs((y_true - y_pred) / y_true)) * 100"
   ]
  },
  {
   "cell_type": "code",
   "execution_count": 24,
   "metadata": {
    "tags": []
   },
   "outputs": [
    {
     "output_type": "stream",
     "name": "stdout",
     "text": [
      "34.717166731764785\n"
     ]
    },
    {
     "output_type": "display_data",
     "data": {
      "text/plain": "<Figure size 432x288 with 2 Axes>",
      "image/svg+xml": "<?xml version=\"1.0\" encoding=\"utf-8\" standalone=\"no\"?>\n<!DOCTYPE svg PUBLIC \"-//W3C//DTD SVG 1.1//EN\"\n  \"http://www.w3.org/Graphics/SVG/1.1/DTD/svg11.dtd\">\n<!-- Created with matplotlib (https://matplotlib.org/) -->\n<svg height=\"326.023594pt\" version=\"1.1\" viewBox=\"0 0 423.1395 326.023594\" width=\"423.1395pt\" xmlns=\"http://www.w3.org/2000/svg\" xmlns:xlink=\"http://www.w3.org/1999/xlink\">\n <defs>\n  <style type=\"text/css\">\n*{stroke-linecap:butt;stroke-linejoin:round;}\n  </style>\n </defs>\n <g id=\"figure_1\">\n  <g id=\"patch_1\">\n   <path d=\"M 0 326.023594 \nL 423.1395 326.023594 \nL 423.1395 0 \nL 0 0 \nz\n\" style=\"fill:none;\"/>\n  </g>\n  <g id=\"axes_1\">\n   <g id=\"patch_2\">\n    <path d=\"M 97.584375 228.439219 \nL 365.424375 228.439219 \nL 365.424375 10.999219 \nL 97.584375 10.999219 \nz\n\" style=\"fill:#ffffff;\"/>\n   </g>\n   <g id=\"QuadMesh_1\">\n    <path clip-path=\"url(#pb8c2fbfb40)\" d=\"M 97.584375 10.999219 \nL 135.847232 10.999219 \nL 135.847232 42.062076 \nL 97.584375 42.062076 \nL 97.584375 10.999219 \n\" style=\"fill:#faebdd;\"/>\n    <path clip-path=\"url(#pb8c2fbfb40)\" d=\"M 135.847232 10.999219 \nL 174.110089 10.999219 \nL 174.110089 42.062076 \nL 135.847232 42.062076 \nL 135.847232 10.999219 \n\" style=\"fill:#8c1d5b;\"/>\n    <path clip-path=\"url(#pb8c2fbfb40)\" d=\"M 174.110089 10.999219 \nL 212.372946 10.999219 \nL 212.372946 42.062076 \nL 174.110089 42.062076 \nL 174.110089 10.999219 \n\" style=\"fill:#de2e44;\"/>\n    <path clip-path=\"url(#pb8c2fbfb40)\" d=\"M 212.372946 10.999219 \nL 250.635804 10.999219 \nL 250.635804 42.062076 \nL 212.372946 42.062076 \nL 212.372946 10.999219 \n\" style=\"fill:#641f54;\"/>\n    <path clip-path=\"url(#pb8c2fbfb40)\" d=\"M 250.635804 10.999219 \nL 288.898661 10.999219 \nL 288.898661 42.062076 \nL 250.635804 42.062076 \nL 250.635804 10.999219 \n\" style=\"fill:#3f1b43;\"/>\n    <path clip-path=\"url(#pb8c2fbfb40)\" d=\"M 288.898661 10.999219 \nL 327.161518 10.999219 \nL 327.161518 42.062076 \nL 288.898661 42.062076 \nL 288.898661 10.999219 \n\" style=\"fill:#b21758;\"/>\n    <path clip-path=\"url(#pb8c2fbfb40)\" d=\"M 327.161518 10.999219 \nL 365.424375 10.999219 \nL 365.424375 42.062076 \nL 327.161518 42.062076 \nL 327.161518 10.999219 \n\" style=\"fill:#100b23;\"/>\n    <path clip-path=\"url(#pb8c2fbfb40)\" d=\"M 97.584375 42.062076 \nL 135.847232 42.062076 \nL 135.847232 73.124933 \nL 97.584375 73.124933 \nL 97.584375 42.062076 \n\" style=\"fill:#8c1d5b;\"/>\n    <path clip-path=\"url(#pb8c2fbfb40)\" d=\"M 135.847232 42.062076 \nL 174.110089 42.062076 \nL 174.110089 73.124933 \nL 135.847232 73.124933 \nL 135.847232 42.062076 \n\" style=\"fill:#faebdd;\"/>\n    <path clip-path=\"url(#pb8c2fbfb40)\" d=\"M 174.110089 42.062076 \nL 212.372946 42.062076 \nL 212.372946 73.124933 \nL 174.110089 73.124933 \nL 174.110089 42.062076 \n\" style=\"fill:#bc1656;\"/>\n    <path clip-path=\"url(#pb8c2fbfb40)\" d=\"M 212.372946 42.062076 \nL 250.635804 42.062076 \nL 250.635804 73.124933 \nL 212.372946 73.124933 \nL 212.372946 42.062076 \n\" style=\"fill:#611f53;\"/>\n    <path clip-path=\"url(#pb8c2fbfb40)\" d=\"M 250.635804 42.062076 \nL 288.898661 42.062076 \nL 288.898661 73.124933 \nL 250.635804 73.124933 \nL 250.635804 42.062076 \n\" style=\"fill:#5e1f52;\"/>\n    <path clip-path=\"url(#pb8c2fbfb40)\" d=\"M 288.898661 42.062076 \nL 327.161518 42.062076 \nL 327.161518 73.124933 \nL 288.898661 73.124933 \nL 288.898661 42.062076 \n\" style=\"fill:#821e5a;\"/>\n    <path clip-path=\"url(#pb8c2fbfb40)\" d=\"M 327.161518 42.062076 \nL 365.424375 42.062076 \nL 365.424375 73.124933 \nL 327.161518 73.124933 \nL 327.161518 42.062076 \n\" style=\"fill:#1e122d;\"/>\n    <path clip-path=\"url(#pb8c2fbfb40)\" d=\"M 97.584375 73.124933 \nL 135.847232 73.124933 \nL 135.847232 104.18779 \nL 97.584375 104.18779 \nL 97.584375 73.124933 \n\" style=\"fill:#de2e44;\"/>\n    <path clip-path=\"url(#pb8c2fbfb40)\" d=\"M 135.847232 73.124933 \nL 174.110089 73.124933 \nL 174.110089 104.18779 \nL 135.847232 104.18779 \nL 135.847232 73.124933 \n\" style=\"fill:#bc1656;\"/>\n    <path clip-path=\"url(#pb8c2fbfb40)\" d=\"M 174.110089 73.124933 \nL 212.372946 73.124933 \nL 212.372946 104.18779 \nL 174.110089 104.18779 \nL 174.110089 73.124933 \n\" style=\"fill:#faebdd;\"/>\n    <path clip-path=\"url(#pb8c2fbfb40)\" d=\"M 212.372946 73.124933 \nL 250.635804 73.124933 \nL 250.635804 104.18779 \nL 212.372946 104.18779 \nL 212.372946 73.124933 \n\" style=\"fill:#501d4c;\"/>\n    <path clip-path=\"url(#pb8c2fbfb40)\" d=\"M 250.635804 73.124933 \nL 288.898661 73.124933 \nL 288.898661 104.18779 \nL 250.635804 104.18779 \nL 250.635804 73.124933 \n\" style=\"fill:#4c1d4b;\"/>\n    <path clip-path=\"url(#pb8c2fbfb40)\" d=\"M 288.898661 73.124933 \nL 327.161518 73.124933 \nL 327.161518 104.18779 \nL 288.898661 104.18779 \nL 288.898661 73.124933 \n\" style=\"fill:#9f1a5b;\"/>\n    <path clip-path=\"url(#pb8c2fbfb40)\" d=\"M 327.161518 73.124933 \nL 365.424375 73.124933 \nL 365.424375 104.18779 \nL 327.161518 104.18779 \nL 327.161518 73.124933 \n\" style=\"fill:#03051a;\"/>\n    <path clip-path=\"url(#pb8c2fbfb40)\" d=\"M 97.584375 104.18779 \nL 135.847232 104.18779 \nL 135.847232 135.250647 \nL 97.584375 135.250647 \nL 97.584375 104.18779 \n\" style=\"fill:#641f54;\"/>\n    <path clip-path=\"url(#pb8c2fbfb40)\" d=\"M 135.847232 104.18779 \nL 174.110089 104.18779 \nL 174.110089 135.250647 \nL 135.847232 135.250647 \nL 135.847232 104.18779 \n\" style=\"fill:#611f53;\"/>\n    <path clip-path=\"url(#pb8c2fbfb40)\" d=\"M 174.110089 104.18779 \nL 212.372946 104.18779 \nL 212.372946 135.250647 \nL 174.110089 135.250647 \nL 174.110089 104.18779 \n\" style=\"fill:#501d4c;\"/>\n    <path clip-path=\"url(#pb8c2fbfb40)\" d=\"M 212.372946 104.18779 \nL 250.635804 104.18779 \nL 250.635804 135.250647 \nL 212.372946 135.250647 \nL 212.372946 104.18779 \n\" style=\"fill:#faebdd;\"/>\n    <path clip-path=\"url(#pb8c2fbfb40)\" d=\"M 250.635804 104.18779 \nL 288.898661 104.18779 \nL 288.898661 135.250647 \nL 250.635804 135.250647 \nL 250.635804 104.18779 \n\" style=\"fill:#37193f;\"/>\n    <path clip-path=\"url(#pb8c2fbfb40)\" d=\"M 288.898661 104.18779 \nL 327.161518 104.18779 \nL 327.161518 135.250647 \nL 288.898661 135.250647 \nL 288.898661 104.18779 \n\" style=\"fill:#501d4c;\"/>\n    <path clip-path=\"url(#pb8c2fbfb40)\" d=\"M 327.161518 104.18779 \nL 365.424375 104.18779 \nL 365.424375 135.250647 \nL 327.161518 135.250647 \nL 327.161518 104.18779 \n\" style=\"fill:#33183c;\"/>\n    <path clip-path=\"url(#pb8c2fbfb40)\" d=\"M 97.584375 135.250647 \nL 135.847232 135.250647 \nL 135.847232 166.313504 \nL 97.584375 166.313504 \nL 97.584375 135.250647 \n\" style=\"fill:#3f1b43;\"/>\n    <path clip-path=\"url(#pb8c2fbfb40)\" d=\"M 135.847232 135.250647 \nL 174.110089 135.250647 \nL 174.110089 166.313504 \nL 135.847232 166.313504 \nL 135.847232 135.250647 \n\" style=\"fill:#5e1f52;\"/>\n    <path clip-path=\"url(#pb8c2fbfb40)\" d=\"M 174.110089 135.250647 \nL 212.372946 135.250647 \nL 212.372946 166.313504 \nL 174.110089 166.313504 \nL 174.110089 135.250647 \n\" style=\"fill:#4c1d4b;\"/>\n    <path clip-path=\"url(#pb8c2fbfb40)\" d=\"M 212.372946 135.250647 \nL 250.635804 135.250647 \nL 250.635804 166.313504 \nL 212.372946 166.313504 \nL 212.372946 135.250647 \n\" style=\"fill:#37193f;\"/>\n    <path clip-path=\"url(#pb8c2fbfb40)\" d=\"M 250.635804 135.250647 \nL 288.898661 135.250647 \nL 288.898661 166.313504 \nL 250.635804 166.313504 \nL 250.635804 135.250647 \n\" style=\"fill:#faebdd;\"/>\n    <path clip-path=\"url(#pb8c2fbfb40)\" d=\"M 288.898661 135.250647 \nL 327.161518 135.250647 \nL 327.161518 166.313504 \nL 288.898661 166.313504 \nL 288.898661 135.250647 \n\" style=\"fill:#451c47;\"/>\n    <path clip-path=\"url(#pb8c2fbfb40)\" d=\"M 327.161518 135.250647 \nL 365.424375 135.250647 \nL 365.424375 166.313504 \nL 327.161518 166.313504 \nL 327.161518 135.250647 \n\" style=\"fill:#37193f;\"/>\n    <path clip-path=\"url(#pb8c2fbfb40)\" d=\"M 97.584375 166.313504 \nL 135.847232 166.313504 \nL 135.847232 197.376362 \nL 97.584375 197.376362 \nL 97.584375 166.313504 \n\" style=\"fill:#b21758;\"/>\n    <path clip-path=\"url(#pb8c2fbfb40)\" d=\"M 135.847232 166.313504 \nL 174.110089 166.313504 \nL 174.110089 197.376362 \nL 135.847232 197.376362 \nL 135.847232 166.313504 \n\" style=\"fill:#821e5a;\"/>\n    <path clip-path=\"url(#pb8c2fbfb40)\" d=\"M 174.110089 166.313504 \nL 212.372946 166.313504 \nL 212.372946 197.376362 \nL 174.110089 197.376362 \nL 174.110089 166.313504 \n\" style=\"fill:#9f1a5b;\"/>\n    <path clip-path=\"url(#pb8c2fbfb40)\" d=\"M 212.372946 166.313504 \nL 250.635804 166.313504 \nL 250.635804 197.376362 \nL 212.372946 197.376362 \nL 212.372946 166.313504 \n\" style=\"fill:#501d4c;\"/>\n    <path clip-path=\"url(#pb8c2fbfb40)\" d=\"M 250.635804 166.313504 \nL 288.898661 166.313504 \nL 288.898661 197.376362 \nL 250.635804 197.376362 \nL 250.635804 166.313504 \n\" style=\"fill:#451c47;\"/>\n    <path clip-path=\"url(#pb8c2fbfb40)\" d=\"M 288.898661 166.313504 \nL 327.161518 166.313504 \nL 327.161518 197.376362 \nL 288.898661 197.376362 \nL 288.898661 166.313504 \n\" style=\"fill:#faebdd;\"/>\n    <path clip-path=\"url(#pb8c2fbfb40)\" d=\"M 327.161518 166.313504 \nL 365.424375 166.313504 \nL 365.424375 197.376362 \nL 327.161518 197.376362 \nL 327.161518 166.313504 \n\" style=\"fill:#04051a;\"/>\n    <path clip-path=\"url(#pb8c2fbfb40)\" d=\"M 97.584375 197.376362 \nL 135.847232 197.376362 \nL 135.847232 228.439219 \nL 97.584375 228.439219 \nL 97.584375 197.376362 \n\" style=\"fill:#100b23;\"/>\n    <path clip-path=\"url(#pb8c2fbfb40)\" d=\"M 135.847232 197.376362 \nL 174.110089 197.376362 \nL 174.110089 228.439219 \nL 135.847232 228.439219 \nL 135.847232 197.376362 \n\" style=\"fill:#1e122d;\"/>\n    <path clip-path=\"url(#pb8c2fbfb40)\" d=\"M 174.110089 197.376362 \nL 212.372946 197.376362 \nL 212.372946 228.439219 \nL 174.110089 228.439219 \nL 174.110089 197.376362 \n\" style=\"fill:#03051a;\"/>\n    <path clip-path=\"url(#pb8c2fbfb40)\" d=\"M 212.372946 197.376362 \nL 250.635804 197.376362 \nL 250.635804 228.439219 \nL 212.372946 228.439219 \nL 212.372946 197.376362 \n\" style=\"fill:#33183c;\"/>\n    <path clip-path=\"url(#pb8c2fbfb40)\" d=\"M 250.635804 197.376362 \nL 288.898661 197.376362 \nL 288.898661 228.439219 \nL 250.635804 228.439219 \nL 250.635804 197.376362 \n\" style=\"fill:#37193f;\"/>\n    <path clip-path=\"url(#pb8c2fbfb40)\" d=\"M 288.898661 197.376362 \nL 327.161518 197.376362 \nL 327.161518 228.439219 \nL 288.898661 228.439219 \nL 288.898661 197.376362 \n\" style=\"fill:#04051a;\"/>\n    <path clip-path=\"url(#pb8c2fbfb40)\" d=\"M 327.161518 197.376362 \nL 365.424375 197.376362 \nL 365.424375 228.439219 \nL 327.161518 228.439219 \nL 327.161518 197.376362 \n\" style=\"fill:#faebdd;\"/>\n   </g>\n   <g id=\"matplotlib.axis_1\">\n    <g id=\"xtick_1\">\n     <g id=\"line2d_1\">\n      <defs>\n       <path d=\"M 0 0 \nL 0 3.5 \n\" id=\"m70436215c0\" style=\"stroke:#000000;stroke-width:0.8;\"/>\n      </defs>\n      <g>\n       <use style=\"stroke:#000000;stroke-width:0.8;\" x=\"116.715804\" xlink:href=\"#m70436215c0\" y=\"228.439219\"/>\n      </g>\n     </g>\n     <g id=\"text_1\">\n      <!-- accommodates -->\n      <defs>\n       <path d=\"M 34.28125 27.484375 \nQ 23.390625 27.484375 19.1875 25 \nQ 14.984375 22.515625 14.984375 16.5 \nQ 14.984375 11.71875 18.140625 8.90625 \nQ 21.296875 6.109375 26.703125 6.109375 \nQ 34.1875 6.109375 38.703125 11.40625 \nQ 43.21875 16.703125 43.21875 25.484375 \nL 43.21875 27.484375 \nz\nM 52.203125 31.203125 \nL 52.203125 0 \nL 43.21875 0 \nL 43.21875 8.296875 \nQ 40.140625 3.328125 35.546875 0.953125 \nQ 30.953125 -1.421875 24.3125 -1.421875 \nQ 15.921875 -1.421875 10.953125 3.296875 \nQ 6 8.015625 6 15.921875 \nQ 6 25.140625 12.171875 29.828125 \nQ 18.359375 34.515625 30.609375 34.515625 \nL 43.21875 34.515625 \nL 43.21875 35.40625 \nQ 43.21875 41.609375 39.140625 45 \nQ 35.0625 48.390625 27.6875 48.390625 \nQ 23 48.390625 18.546875 47.265625 \nQ 14.109375 46.140625 10.015625 43.890625 \nL 10.015625 52.203125 \nQ 14.9375 54.109375 19.578125 55.046875 \nQ 24.21875 56 28.609375 56 \nQ 40.484375 56 46.34375 49.84375 \nQ 52.203125 43.703125 52.203125 31.203125 \nz\n\" id=\"DejaVuSans-97\"/>\n       <path d=\"M 48.78125 52.59375 \nL 48.78125 44.1875 \nQ 44.96875 46.296875 41.140625 47.34375 \nQ 37.3125 48.390625 33.40625 48.390625 \nQ 24.65625 48.390625 19.8125 42.84375 \nQ 14.984375 37.3125 14.984375 27.296875 \nQ 14.984375 17.28125 19.8125 11.734375 \nQ 24.65625 6.203125 33.40625 6.203125 \nQ 37.3125 6.203125 41.140625 7.25 \nQ 44.96875 8.296875 48.78125 10.40625 \nL 48.78125 2.09375 \nQ 45.015625 0.34375 40.984375 -0.53125 \nQ 36.96875 -1.421875 32.421875 -1.421875 \nQ 20.0625 -1.421875 12.78125 6.34375 \nQ 5.515625 14.109375 5.515625 27.296875 \nQ 5.515625 40.671875 12.859375 48.328125 \nQ 20.21875 56 33.015625 56 \nQ 37.15625 56 41.109375 55.140625 \nQ 45.0625 54.296875 48.78125 52.59375 \nz\n\" id=\"DejaVuSans-99\"/>\n       <path d=\"M 30.609375 48.390625 \nQ 23.390625 48.390625 19.1875 42.75 \nQ 14.984375 37.109375 14.984375 27.296875 \nQ 14.984375 17.484375 19.15625 11.84375 \nQ 23.34375 6.203125 30.609375 6.203125 \nQ 37.796875 6.203125 41.984375 11.859375 \nQ 46.1875 17.53125 46.1875 27.296875 \nQ 46.1875 37.015625 41.984375 42.703125 \nQ 37.796875 48.390625 30.609375 48.390625 \nz\nM 30.609375 56 \nQ 42.328125 56 49.015625 48.375 \nQ 55.71875 40.765625 55.71875 27.296875 \nQ 55.71875 13.875 49.015625 6.21875 \nQ 42.328125 -1.421875 30.609375 -1.421875 \nQ 18.84375 -1.421875 12.171875 6.21875 \nQ 5.515625 13.875 5.515625 27.296875 \nQ 5.515625 40.765625 12.171875 48.375 \nQ 18.84375 56 30.609375 56 \nz\n\" id=\"DejaVuSans-111\"/>\n       <path d=\"M 52 44.1875 \nQ 55.375 50.25 60.0625 53.125 \nQ 64.75 56 71.09375 56 \nQ 79.640625 56 84.28125 50.015625 \nQ 88.921875 44.046875 88.921875 33.015625 \nL 88.921875 0 \nL 79.890625 0 \nL 79.890625 32.71875 \nQ 79.890625 40.578125 77.09375 44.375 \nQ 74.3125 48.1875 68.609375 48.1875 \nQ 61.625 48.1875 57.5625 43.546875 \nQ 53.515625 38.921875 53.515625 30.90625 \nL 53.515625 0 \nL 44.484375 0 \nL 44.484375 32.71875 \nQ 44.484375 40.625 41.703125 44.40625 \nQ 38.921875 48.1875 33.109375 48.1875 \nQ 26.21875 48.1875 22.15625 43.53125 \nQ 18.109375 38.875 18.109375 30.90625 \nL 18.109375 0 \nL 9.078125 0 \nL 9.078125 54.6875 \nL 18.109375 54.6875 \nL 18.109375 46.1875 \nQ 21.1875 51.21875 25.484375 53.609375 \nQ 29.78125 56 35.6875 56 \nQ 41.65625 56 45.828125 52.96875 \nQ 50 49.953125 52 44.1875 \nz\n\" id=\"DejaVuSans-109\"/>\n       <path d=\"M 45.40625 46.390625 \nL 45.40625 75.984375 \nL 54.390625 75.984375 \nL 54.390625 0 \nL 45.40625 0 \nL 45.40625 8.203125 \nQ 42.578125 3.328125 38.25 0.953125 \nQ 33.9375 -1.421875 27.875 -1.421875 \nQ 17.96875 -1.421875 11.734375 6.484375 \nQ 5.515625 14.40625 5.515625 27.296875 \nQ 5.515625 40.1875 11.734375 48.09375 \nQ 17.96875 56 27.875 56 \nQ 33.9375 56 38.25 53.625 \nQ 42.578125 51.265625 45.40625 46.390625 \nz\nM 14.796875 27.296875 \nQ 14.796875 17.390625 18.875 11.75 \nQ 22.953125 6.109375 30.078125 6.109375 \nQ 37.203125 6.109375 41.296875 11.75 \nQ 45.40625 17.390625 45.40625 27.296875 \nQ 45.40625 37.203125 41.296875 42.84375 \nQ 37.203125 48.484375 30.078125 48.484375 \nQ 22.953125 48.484375 18.875 42.84375 \nQ 14.796875 37.203125 14.796875 27.296875 \nz\n\" id=\"DejaVuSans-100\"/>\n       <path d=\"M 18.3125 70.21875 \nL 18.3125 54.6875 \nL 36.8125 54.6875 \nL 36.8125 47.703125 \nL 18.3125 47.703125 \nL 18.3125 18.015625 \nQ 18.3125 11.328125 20.140625 9.421875 \nQ 21.96875 7.515625 27.59375 7.515625 \nL 36.8125 7.515625 \nL 36.8125 0 \nL 27.59375 0 \nQ 17.1875 0 13.234375 3.875 \nQ 9.28125 7.765625 9.28125 18.015625 \nL 9.28125 47.703125 \nL 2.6875 47.703125 \nL 2.6875 54.6875 \nL 9.28125 54.6875 \nL 9.28125 70.21875 \nz\n\" id=\"DejaVuSans-116\"/>\n       <path d=\"M 56.203125 29.59375 \nL 56.203125 25.203125 \nL 14.890625 25.203125 \nQ 15.484375 15.921875 20.484375 11.0625 \nQ 25.484375 6.203125 34.421875 6.203125 \nQ 39.59375 6.203125 44.453125 7.46875 \nQ 49.3125 8.734375 54.109375 11.28125 \nL 54.109375 2.78125 \nQ 49.265625 0.734375 44.1875 -0.34375 \nQ 39.109375 -1.421875 33.890625 -1.421875 \nQ 20.796875 -1.421875 13.15625 6.1875 \nQ 5.515625 13.8125 5.515625 26.8125 \nQ 5.515625 40.234375 12.765625 48.109375 \nQ 20.015625 56 32.328125 56 \nQ 43.359375 56 49.78125 48.890625 \nQ 56.203125 41.796875 56.203125 29.59375 \nz\nM 47.21875 32.234375 \nQ 47.125 39.59375 43.09375 43.984375 \nQ 39.0625 48.390625 32.421875 48.390625 \nQ 24.90625 48.390625 20.390625 44.140625 \nQ 15.875 39.890625 15.1875 32.171875 \nz\n\" id=\"DejaVuSans-101\"/>\n       <path d=\"M 44.28125 53.078125 \nL 44.28125 44.578125 \nQ 40.484375 46.53125 36.375 47.5 \nQ 32.28125 48.484375 27.875 48.484375 \nQ 21.1875 48.484375 17.84375 46.4375 \nQ 14.5 44.390625 14.5 40.28125 \nQ 14.5 37.15625 16.890625 35.375 \nQ 19.28125 33.59375 26.515625 31.984375 \nL 29.59375 31.296875 \nQ 39.15625 29.25 43.1875 25.515625 \nQ 47.21875 21.78125 47.21875 15.09375 \nQ 47.21875 7.46875 41.1875 3.015625 \nQ 35.15625 -1.421875 24.609375 -1.421875 \nQ 20.21875 -1.421875 15.453125 -0.5625 \nQ 10.6875 0.296875 5.421875 2 \nL 5.421875 11.28125 \nQ 10.40625 8.6875 15.234375 7.390625 \nQ 20.0625 6.109375 24.8125 6.109375 \nQ 31.15625 6.109375 34.5625 8.28125 \nQ 37.984375 10.453125 37.984375 14.40625 \nQ 37.984375 18.0625 35.515625 20.015625 \nQ 33.0625 21.96875 24.703125 23.78125 \nL 21.578125 24.515625 \nQ 13.234375 26.265625 9.515625 29.90625 \nQ 5.8125 33.546875 5.8125 39.890625 \nQ 5.8125 47.609375 11.28125 51.796875 \nQ 16.75 56 26.8125 56 \nQ 31.78125 56 36.171875 55.265625 \nQ 40.578125 54.546875 44.28125 53.078125 \nz\n\" id=\"DejaVuSans-115\"/>\n      </defs>\n      <g transform=\"translate(119.475179 312.042344)rotate(-90)scale(0.1 -0.1)\">\n       <use xlink:href=\"#DejaVuSans-97\"/>\n       <use x=\"61.279297\" xlink:href=\"#DejaVuSans-99\"/>\n       <use x=\"116.259766\" xlink:href=\"#DejaVuSans-99\"/>\n       <use x=\"171.240234\" xlink:href=\"#DejaVuSans-111\"/>\n       <use x=\"232.421875\" xlink:href=\"#DejaVuSans-109\"/>\n       <use x=\"329.833984\" xlink:href=\"#DejaVuSans-109\"/>\n       <use x=\"427.246094\" xlink:href=\"#DejaVuSans-111\"/>\n       <use x=\"488.427734\" xlink:href=\"#DejaVuSans-100\"/>\n       <use x=\"551.904297\" xlink:href=\"#DejaVuSans-97\"/>\n       <use x=\"613.183594\" xlink:href=\"#DejaVuSans-116\"/>\n       <use x=\"652.392578\" xlink:href=\"#DejaVuSans-101\"/>\n       <use x=\"713.916016\" xlink:href=\"#DejaVuSans-115\"/>\n      </g>\n     </g>\n    </g>\n    <g id=\"xtick_2\">\n     <g id=\"line2d_2\">\n      <g>\n       <use style=\"stroke:#000000;stroke-width:0.8;\" x=\"154.978661\" xlink:href=\"#m70436215c0\" y=\"228.439219\"/>\n      </g>\n     </g>\n     <g id=\"text_2\">\n      <!-- security_deposit -->\n      <defs>\n       <path d=\"M 8.5 21.578125 \nL 8.5 54.6875 \nL 17.484375 54.6875 \nL 17.484375 21.921875 \nQ 17.484375 14.15625 20.5 10.265625 \nQ 23.53125 6.390625 29.59375 6.390625 \nQ 36.859375 6.390625 41.078125 11.03125 \nQ 45.3125 15.671875 45.3125 23.6875 \nL 45.3125 54.6875 \nL 54.296875 54.6875 \nL 54.296875 0 \nL 45.3125 0 \nL 45.3125 8.40625 \nQ 42.046875 3.421875 37.71875 1 \nQ 33.40625 -1.421875 27.6875 -1.421875 \nQ 18.265625 -1.421875 13.375 4.4375 \nQ 8.5 10.296875 8.5 21.578125 \nz\nM 31.109375 56 \nz\n\" id=\"DejaVuSans-117\"/>\n       <path d=\"M 41.109375 46.296875 \nQ 39.59375 47.171875 37.8125 47.578125 \nQ 36.03125 48 33.890625 48 \nQ 26.265625 48 22.1875 43.046875 \nQ 18.109375 38.09375 18.109375 28.8125 \nL 18.109375 0 \nL 9.078125 0 \nL 9.078125 54.6875 \nL 18.109375 54.6875 \nL 18.109375 46.1875 \nQ 20.953125 51.171875 25.484375 53.578125 \nQ 30.03125 56 36.53125 56 \nQ 37.453125 56 38.578125 55.875 \nQ 39.703125 55.765625 41.0625 55.515625 \nz\n\" id=\"DejaVuSans-114\"/>\n       <path d=\"M 9.421875 54.6875 \nL 18.40625 54.6875 \nL 18.40625 0 \nL 9.421875 0 \nz\nM 9.421875 75.984375 \nL 18.40625 75.984375 \nL 18.40625 64.59375 \nL 9.421875 64.59375 \nz\n\" id=\"DejaVuSans-105\"/>\n       <path d=\"M 32.171875 -5.078125 \nQ 28.375 -14.84375 24.75 -17.8125 \nQ 21.140625 -20.796875 15.09375 -20.796875 \nL 7.90625 -20.796875 \nL 7.90625 -13.28125 \nL 13.1875 -13.28125 \nQ 16.890625 -13.28125 18.9375 -11.515625 \nQ 21 -9.765625 23.484375 -3.21875 \nL 25.09375 0.875 \nL 2.984375 54.6875 \nL 12.5 54.6875 \nL 29.59375 11.921875 \nL 46.6875 54.6875 \nL 56.203125 54.6875 \nz\n\" id=\"DejaVuSans-121\"/>\n       <path d=\"M 50.984375 -16.609375 \nL 50.984375 -23.578125 \nL -0.984375 -23.578125 \nL -0.984375 -16.609375 \nz\n\" id=\"DejaVuSans-95\"/>\n       <path d=\"M 18.109375 8.203125 \nL 18.109375 -20.796875 \nL 9.078125 -20.796875 \nL 9.078125 54.6875 \nL 18.109375 54.6875 \nL 18.109375 46.390625 \nQ 20.953125 51.265625 25.265625 53.625 \nQ 29.59375 56 35.59375 56 \nQ 45.5625 56 51.78125 48.09375 \nQ 58.015625 40.1875 58.015625 27.296875 \nQ 58.015625 14.40625 51.78125 6.484375 \nQ 45.5625 -1.421875 35.59375 -1.421875 \nQ 29.59375 -1.421875 25.265625 0.953125 \nQ 20.953125 3.328125 18.109375 8.203125 \nz\nM 48.6875 27.296875 \nQ 48.6875 37.203125 44.609375 42.84375 \nQ 40.53125 48.484375 33.40625 48.484375 \nQ 26.265625 48.484375 22.1875 42.84375 \nQ 18.109375 37.203125 18.109375 27.296875 \nQ 18.109375 17.390625 22.1875 11.75 \nQ 26.265625 6.109375 33.40625 6.109375 \nQ 40.53125 6.109375 44.609375 11.75 \nQ 48.6875 17.390625 48.6875 27.296875 \nz\n\" id=\"DejaVuSans-112\"/>\n      </defs>\n      <g transform=\"translate(157.598973 317.242344)rotate(-90)scale(0.1 -0.1)\">\n       <use xlink:href=\"#DejaVuSans-115\"/>\n       <use x=\"52.099609\" xlink:href=\"#DejaVuSans-101\"/>\n       <use x=\"113.623047\" xlink:href=\"#DejaVuSans-99\"/>\n       <use x=\"168.603516\" xlink:href=\"#DejaVuSans-117\"/>\n       <use x=\"231.982422\" xlink:href=\"#DejaVuSans-114\"/>\n       <use x=\"273.095703\" xlink:href=\"#DejaVuSans-105\"/>\n       <use x=\"300.878906\" xlink:href=\"#DejaVuSans-116\"/>\n       <use x=\"340.087891\" xlink:href=\"#DejaVuSans-121\"/>\n       <use x=\"399.267578\" xlink:href=\"#DejaVuSans-95\"/>\n       <use x=\"449.267578\" xlink:href=\"#DejaVuSans-100\"/>\n       <use x=\"512.744141\" xlink:href=\"#DejaVuSans-101\"/>\n       <use x=\"574.267578\" xlink:href=\"#DejaVuSans-112\"/>\n       <use x=\"637.744141\" xlink:href=\"#DejaVuSans-111\"/>\n       <use x=\"698.925781\" xlink:href=\"#DejaVuSans-115\"/>\n       <use x=\"751.025391\" xlink:href=\"#DejaVuSans-105\"/>\n       <use x=\"778.808594\" xlink:href=\"#DejaVuSans-116\"/>\n      </g>\n     </g>\n    </g>\n    <g id=\"xtick_3\">\n     <g id=\"line2d_3\">\n      <g>\n       <use style=\"stroke:#000000;stroke-width:0.8;\" x=\"193.241518\" xlink:href=\"#m70436215c0\" y=\"228.439219\"/>\n      </g>\n     </g>\n     <g id=\"text_3\">\n      <!-- cleaning_fee -->\n      <defs>\n       <path d=\"M 9.421875 75.984375 \nL 18.40625 75.984375 \nL 18.40625 0 \nL 9.421875 0 \nz\n\" id=\"DejaVuSans-108\"/>\n       <path d=\"M 54.890625 33.015625 \nL 54.890625 0 \nL 45.90625 0 \nL 45.90625 32.71875 \nQ 45.90625 40.484375 42.875 44.328125 \nQ 39.84375 48.1875 33.796875 48.1875 \nQ 26.515625 48.1875 22.3125 43.546875 \nQ 18.109375 38.921875 18.109375 30.90625 \nL 18.109375 0 \nL 9.078125 0 \nL 9.078125 54.6875 \nL 18.109375 54.6875 \nL 18.109375 46.1875 \nQ 21.34375 51.125 25.703125 53.5625 \nQ 30.078125 56 35.796875 56 \nQ 45.21875 56 50.046875 50.171875 \nQ 54.890625 44.34375 54.890625 33.015625 \nz\n\" id=\"DejaVuSans-110\"/>\n       <path d=\"M 45.40625 27.984375 \nQ 45.40625 37.75 41.375 43.109375 \nQ 37.359375 48.484375 30.078125 48.484375 \nQ 22.859375 48.484375 18.828125 43.109375 \nQ 14.796875 37.75 14.796875 27.984375 \nQ 14.796875 18.265625 18.828125 12.890625 \nQ 22.859375 7.515625 30.078125 7.515625 \nQ 37.359375 7.515625 41.375 12.890625 \nQ 45.40625 18.265625 45.40625 27.984375 \nz\nM 54.390625 6.78125 \nQ 54.390625 -7.171875 48.1875 -13.984375 \nQ 42 -20.796875 29.203125 -20.796875 \nQ 24.46875 -20.796875 20.265625 -20.09375 \nQ 16.0625 -19.390625 12.109375 -17.921875 \nL 12.109375 -9.1875 \nQ 16.0625 -11.328125 19.921875 -12.34375 \nQ 23.78125 -13.375 27.78125 -13.375 \nQ 36.625 -13.375 41.015625 -8.765625 \nQ 45.40625 -4.15625 45.40625 5.171875 \nL 45.40625 9.625 \nQ 42.625 4.78125 38.28125 2.390625 \nQ 33.9375 0 27.875 0 \nQ 17.828125 0 11.671875 7.65625 \nQ 5.515625 15.328125 5.515625 27.984375 \nQ 5.515625 40.671875 11.671875 48.328125 \nQ 17.828125 56 27.875 56 \nQ 33.9375 56 38.28125 53.609375 \nQ 42.625 51.21875 45.40625 46.390625 \nL 45.40625 54.6875 \nL 54.390625 54.6875 \nz\n\" id=\"DejaVuSans-103\"/>\n       <path d=\"M 37.109375 75.984375 \nL 37.109375 68.5 \nL 28.515625 68.5 \nQ 23.6875 68.5 21.796875 66.546875 \nQ 19.921875 64.59375 19.921875 59.515625 \nL 19.921875 54.6875 \nL 34.71875 54.6875 \nL 34.71875 47.703125 \nL 19.921875 47.703125 \nL 19.921875 0 \nL 10.890625 0 \nL 10.890625 47.703125 \nL 2.296875 47.703125 \nL 2.296875 54.6875 \nL 10.890625 54.6875 \nL 10.890625 58.5 \nQ 10.890625 67.625 15.140625 71.796875 \nQ 19.390625 75.984375 28.609375 75.984375 \nz\n\" id=\"DejaVuSans-102\"/>\n      </defs>\n      <g transform=\"translate(195.86183 298.625156)rotate(-90)scale(0.1 -0.1)\">\n       <use xlink:href=\"#DejaVuSans-99\"/>\n       <use x=\"54.980469\" xlink:href=\"#DejaVuSans-108\"/>\n       <use x=\"82.763672\" xlink:href=\"#DejaVuSans-101\"/>\n       <use x=\"144.287109\" xlink:href=\"#DejaVuSans-97\"/>\n       <use x=\"205.566406\" xlink:href=\"#DejaVuSans-110\"/>\n       <use x=\"268.945312\" xlink:href=\"#DejaVuSans-105\"/>\n       <use x=\"296.728516\" xlink:href=\"#DejaVuSans-110\"/>\n       <use x=\"360.107422\" xlink:href=\"#DejaVuSans-103\"/>\n       <use x=\"423.583984\" xlink:href=\"#DejaVuSans-95\"/>\n       <use x=\"473.583984\" xlink:href=\"#DejaVuSans-102\"/>\n       <use x=\"508.789062\" xlink:href=\"#DejaVuSans-101\"/>\n       <use x=\"570.3125\" xlink:href=\"#DejaVuSans-101\"/>\n      </g>\n     </g>\n    </g>\n    <g id=\"xtick_4\">\n     <g id=\"line2d_4\">\n      <g>\n       <use style=\"stroke:#000000;stroke-width:0.8;\" x=\"231.504375\" xlink:href=\"#m70436215c0\" y=\"228.439219\"/>\n      </g>\n     </g>\n     <g id=\"text_4\">\n      <!-- extra_people -->\n      <defs>\n       <path d=\"M 54.890625 54.6875 \nL 35.109375 28.078125 \nL 55.90625 0 \nL 45.3125 0 \nL 29.390625 21.484375 \nL 13.484375 0 \nL 2.875 0 \nL 24.125 28.609375 \nL 4.6875 54.6875 \nL 15.28125 54.6875 \nL 29.78125 35.203125 \nL 44.28125 54.6875 \nz\n\" id=\"DejaVuSans-120\"/>\n      </defs>\n      <g transform=\"translate(234.124688 300.568906)rotate(-90)scale(0.1 -0.1)\">\n       <use xlink:href=\"#DejaVuSans-101\"/>\n       <use x=\"61.507812\" xlink:href=\"#DejaVuSans-120\"/>\n       <use x=\"120.6875\" xlink:href=\"#DejaVuSans-116\"/>\n       <use x=\"159.896484\" xlink:href=\"#DejaVuSans-114\"/>\n       <use x=\"201.009766\" xlink:href=\"#DejaVuSans-97\"/>\n       <use x=\"262.289062\" xlink:href=\"#DejaVuSans-95\"/>\n       <use x=\"312.289062\" xlink:href=\"#DejaVuSans-112\"/>\n       <use x=\"375.765625\" xlink:href=\"#DejaVuSans-101\"/>\n       <use x=\"437.289062\" xlink:href=\"#DejaVuSans-111\"/>\n       <use x=\"498.470703\" xlink:href=\"#DejaVuSans-112\"/>\n       <use x=\"561.947266\" xlink:href=\"#DejaVuSans-108\"/>\n       <use x=\"589.730469\" xlink:href=\"#DejaVuSans-101\"/>\n      </g>\n     </g>\n    </g>\n    <g id=\"xtick_5\">\n     <g id=\"line2d_5\">\n      <g>\n       <use style=\"stroke:#000000;stroke-width:0.8;\" x=\"269.767232\" xlink:href=\"#m70436215c0\" y=\"228.439219\"/>\n      </g>\n     </g>\n     <g id=\"text_5\">\n      <!-- minimum_nights -->\n      <defs>\n       <path d=\"M 54.890625 33.015625 \nL 54.890625 0 \nL 45.90625 0 \nL 45.90625 32.71875 \nQ 45.90625 40.484375 42.875 44.328125 \nQ 39.84375 48.1875 33.796875 48.1875 \nQ 26.515625 48.1875 22.3125 43.546875 \nQ 18.109375 38.921875 18.109375 30.90625 \nL 18.109375 0 \nL 9.078125 0 \nL 9.078125 75.984375 \nL 18.109375 75.984375 \nL 18.109375 46.1875 \nQ 21.34375 51.125 25.703125 53.5625 \nQ 30.078125 56 35.796875 56 \nQ 45.21875 56 50.046875 50.171875 \nQ 54.890625 44.34375 54.890625 33.015625 \nz\n\" id=\"DejaVuSans-104\"/>\n      </defs>\n      <g transform=\"translate(272.387545 318.823594)rotate(-90)scale(0.1 -0.1)\">\n       <use xlink:href=\"#DejaVuSans-109\"/>\n       <use x=\"97.412109\" xlink:href=\"#DejaVuSans-105\"/>\n       <use x=\"125.195312\" xlink:href=\"#DejaVuSans-110\"/>\n       <use x=\"188.574219\" xlink:href=\"#DejaVuSans-105\"/>\n       <use x=\"216.357422\" xlink:href=\"#DejaVuSans-109\"/>\n       <use x=\"313.769531\" xlink:href=\"#DejaVuSans-117\"/>\n       <use x=\"377.148438\" xlink:href=\"#DejaVuSans-109\"/>\n       <use x=\"474.560547\" xlink:href=\"#DejaVuSans-95\"/>\n       <use x=\"524.560547\" xlink:href=\"#DejaVuSans-110\"/>\n       <use x=\"587.939453\" xlink:href=\"#DejaVuSans-105\"/>\n       <use x=\"615.722656\" xlink:href=\"#DejaVuSans-103\"/>\n       <use x=\"679.199219\" xlink:href=\"#DejaVuSans-104\"/>\n       <use x=\"742.578125\" xlink:href=\"#DejaVuSans-116\"/>\n       <use x=\"781.787109\" xlink:href=\"#DejaVuSans-115\"/>\n      </g>\n     </g>\n    </g>\n    <g id=\"xtick_6\">\n     <g id=\"line2d_6\">\n      <g>\n       <use style=\"stroke:#000000;stroke-width:0.8;\" x=\"308.030089\" xlink:href=\"#m70436215c0\" y=\"228.439219\"/>\n      </g>\n     </g>\n     <g id=\"text_6\">\n      <!-- price -->\n      <g transform=\"translate(310.789464 260.328281)rotate(-90)scale(0.1 -0.1)\">\n       <use xlink:href=\"#DejaVuSans-112\"/>\n       <use x=\"63.476562\" xlink:href=\"#DejaVuSans-114\"/>\n       <use x=\"104.589844\" xlink:href=\"#DejaVuSans-105\"/>\n       <use x=\"132.373047\" xlink:href=\"#DejaVuSans-99\"/>\n       <use x=\"187.353516\" xlink:href=\"#DejaVuSans-101\"/>\n      </g>\n     </g>\n    </g>\n    <g id=\"xtick_7\">\n     <g id=\"line2d_7\">\n      <g>\n       <use style=\"stroke:#000000;stroke-width:0.8;\" x=\"346.292946\" xlink:href=\"#m70436215c0\" y=\"228.439219\"/>\n      </g>\n     </g>\n     <g id=\"text_7\">\n      <!-- london -->\n      <g transform=\"translate(349.052321 269.478281)rotate(-90)scale(0.1 -0.1)\">\n       <use xlink:href=\"#DejaVuSans-108\"/>\n       <use x=\"27.783203\" xlink:href=\"#DejaVuSans-111\"/>\n       <use x=\"88.964844\" xlink:href=\"#DejaVuSans-110\"/>\n       <use x=\"152.34375\" xlink:href=\"#DejaVuSans-100\"/>\n       <use x=\"215.820312\" xlink:href=\"#DejaVuSans-111\"/>\n       <use x=\"277.001953\" xlink:href=\"#DejaVuSans-110\"/>\n      </g>\n     </g>\n    </g>\n   </g>\n   <g id=\"matplotlib.axis_2\">\n    <g id=\"ytick_1\">\n     <g id=\"line2d_8\">\n      <defs>\n       <path d=\"M 0 0 \nL -3.5 0 \n\" id=\"me2fc975ce0\" style=\"stroke:#000000;stroke-width:0.8;\"/>\n      </defs>\n      <g>\n       <use style=\"stroke:#000000;stroke-width:0.8;\" x=\"97.584375\" xlink:href=\"#me2fc975ce0\" y=\"26.530647\"/>\n      </g>\n     </g>\n     <g id=\"text_8\">\n      <!-- accommodates -->\n      <g transform=\"translate(13.98125 30.329866)scale(0.1 -0.1)\">\n       <use xlink:href=\"#DejaVuSans-97\"/>\n       <use x=\"61.279297\" xlink:href=\"#DejaVuSans-99\"/>\n       <use x=\"116.259766\" xlink:href=\"#DejaVuSans-99\"/>\n       <use x=\"171.240234\" xlink:href=\"#DejaVuSans-111\"/>\n       <use x=\"232.421875\" xlink:href=\"#DejaVuSans-109\"/>\n       <use x=\"329.833984\" xlink:href=\"#DejaVuSans-109\"/>\n       <use x=\"427.246094\" xlink:href=\"#DejaVuSans-111\"/>\n       <use x=\"488.427734\" xlink:href=\"#DejaVuSans-100\"/>\n       <use x=\"551.904297\" xlink:href=\"#DejaVuSans-97\"/>\n       <use x=\"613.183594\" xlink:href=\"#DejaVuSans-116\"/>\n       <use x=\"652.392578\" xlink:href=\"#DejaVuSans-101\"/>\n       <use x=\"713.916016\" xlink:href=\"#DejaVuSans-115\"/>\n      </g>\n     </g>\n    </g>\n    <g id=\"ytick_2\">\n     <g id=\"line2d_9\">\n      <g>\n       <use style=\"stroke:#000000;stroke-width:0.8;\" x=\"97.584375\" xlink:href=\"#me2fc975ce0\" y=\"57.593504\"/>\n      </g>\n     </g>\n     <g id=\"text_9\">\n      <!-- security_deposit -->\n      <g transform=\"translate(8.78125 61.392723)scale(0.1 -0.1)\">\n       <use xlink:href=\"#DejaVuSans-115\"/>\n       <use x=\"52.099609\" xlink:href=\"#DejaVuSans-101\"/>\n       <use x=\"113.623047\" xlink:href=\"#DejaVuSans-99\"/>\n       <use x=\"168.603516\" xlink:href=\"#DejaVuSans-117\"/>\n       <use x=\"231.982422\" xlink:href=\"#DejaVuSans-114\"/>\n       <use x=\"273.095703\" xlink:href=\"#DejaVuSans-105\"/>\n       <use x=\"300.878906\" xlink:href=\"#DejaVuSans-116\"/>\n       <use x=\"340.087891\" xlink:href=\"#DejaVuSans-121\"/>\n       <use x=\"399.267578\" xlink:href=\"#DejaVuSans-95\"/>\n       <use x=\"449.267578\" xlink:href=\"#DejaVuSans-100\"/>\n       <use x=\"512.744141\" xlink:href=\"#DejaVuSans-101\"/>\n       <use x=\"574.267578\" xlink:href=\"#DejaVuSans-112\"/>\n       <use x=\"637.744141\" xlink:href=\"#DejaVuSans-111\"/>\n       <use x=\"698.925781\" xlink:href=\"#DejaVuSans-115\"/>\n       <use x=\"751.025391\" xlink:href=\"#DejaVuSans-105\"/>\n       <use x=\"778.808594\" xlink:href=\"#DejaVuSans-116\"/>\n      </g>\n     </g>\n    </g>\n    <g id=\"ytick_3\">\n     <g id=\"line2d_10\">\n      <g>\n       <use style=\"stroke:#000000;stroke-width:0.8;\" x=\"97.584375\" xlink:href=\"#me2fc975ce0\" y=\"88.656362\"/>\n      </g>\n     </g>\n     <g id=\"text_10\">\n      <!-- cleaning_fee -->\n      <g transform=\"translate(27.398437 92.45558)scale(0.1 -0.1)\">\n       <use xlink:href=\"#DejaVuSans-99\"/>\n       <use x=\"54.980469\" xlink:href=\"#DejaVuSans-108\"/>\n       <use x=\"82.763672\" xlink:href=\"#DejaVuSans-101\"/>\n       <use x=\"144.287109\" xlink:href=\"#DejaVuSans-97\"/>\n       <use x=\"205.566406\" xlink:href=\"#DejaVuSans-110\"/>\n       <use x=\"268.945312\" xlink:href=\"#DejaVuSans-105\"/>\n       <use x=\"296.728516\" xlink:href=\"#DejaVuSans-110\"/>\n       <use x=\"360.107422\" xlink:href=\"#DejaVuSans-103\"/>\n       <use x=\"423.583984\" xlink:href=\"#DejaVuSans-95\"/>\n       <use x=\"473.583984\" xlink:href=\"#DejaVuSans-102\"/>\n       <use x=\"508.789062\" xlink:href=\"#DejaVuSans-101\"/>\n       <use x=\"570.3125\" xlink:href=\"#DejaVuSans-101\"/>\n      </g>\n     </g>\n    </g>\n    <g id=\"ytick_4\">\n     <g id=\"line2d_11\">\n      <g>\n       <use style=\"stroke:#000000;stroke-width:0.8;\" x=\"97.584375\" xlink:href=\"#me2fc975ce0\" y=\"119.719219\"/>\n      </g>\n     </g>\n     <g id=\"text_11\">\n      <!-- extra_people -->\n      <g transform=\"translate(25.454687 123.518437)scale(0.1 -0.1)\">\n       <use xlink:href=\"#DejaVuSans-101\"/>\n       <use x=\"61.507812\" xlink:href=\"#DejaVuSans-120\"/>\n       <use x=\"120.6875\" xlink:href=\"#DejaVuSans-116\"/>\n       <use x=\"159.896484\" xlink:href=\"#DejaVuSans-114\"/>\n       <use x=\"201.009766\" xlink:href=\"#DejaVuSans-97\"/>\n       <use x=\"262.289062\" xlink:href=\"#DejaVuSans-95\"/>\n       <use x=\"312.289062\" xlink:href=\"#DejaVuSans-112\"/>\n       <use x=\"375.765625\" xlink:href=\"#DejaVuSans-101\"/>\n       <use x=\"437.289062\" xlink:href=\"#DejaVuSans-111\"/>\n       <use x=\"498.470703\" xlink:href=\"#DejaVuSans-112\"/>\n       <use x=\"561.947266\" xlink:href=\"#DejaVuSans-108\"/>\n       <use x=\"589.730469\" xlink:href=\"#DejaVuSans-101\"/>\n      </g>\n     </g>\n    </g>\n    <g id=\"ytick_5\">\n     <g id=\"line2d_12\">\n      <g>\n       <use style=\"stroke:#000000;stroke-width:0.8;\" x=\"97.584375\" xlink:href=\"#me2fc975ce0\" y=\"150.782076\"/>\n      </g>\n     </g>\n     <g id=\"text_12\">\n      <!-- minimum_nights -->\n      <g transform=\"translate(7.2 154.581295)scale(0.1 -0.1)\">\n       <use xlink:href=\"#DejaVuSans-109\"/>\n       <use x=\"97.412109\" xlink:href=\"#DejaVuSans-105\"/>\n       <use x=\"125.195312\" xlink:href=\"#DejaVuSans-110\"/>\n       <use x=\"188.574219\" xlink:href=\"#DejaVuSans-105\"/>\n       <use x=\"216.357422\" xlink:href=\"#DejaVuSans-109\"/>\n       <use x=\"313.769531\" xlink:href=\"#DejaVuSans-117\"/>\n       <use x=\"377.148438\" xlink:href=\"#DejaVuSans-109\"/>\n       <use x=\"474.560547\" xlink:href=\"#DejaVuSans-95\"/>\n       <use x=\"524.560547\" xlink:href=\"#DejaVuSans-110\"/>\n       <use x=\"587.939453\" xlink:href=\"#DejaVuSans-105\"/>\n       <use x=\"615.722656\" xlink:href=\"#DejaVuSans-103\"/>\n       <use x=\"679.199219\" xlink:href=\"#DejaVuSans-104\"/>\n       <use x=\"742.578125\" xlink:href=\"#DejaVuSans-116\"/>\n       <use x=\"781.787109\" xlink:href=\"#DejaVuSans-115\"/>\n      </g>\n     </g>\n    </g>\n    <g id=\"ytick_6\">\n     <g id=\"line2d_13\">\n      <g>\n       <use style=\"stroke:#000000;stroke-width:0.8;\" x=\"97.584375\" xlink:href=\"#me2fc975ce0\" y=\"181.844933\"/>\n      </g>\n     </g>\n     <g id=\"text_13\">\n      <!-- price -->\n      <g transform=\"translate(65.695312 185.644152)scale(0.1 -0.1)\">\n       <use xlink:href=\"#DejaVuSans-112\"/>\n       <use x=\"63.476562\" xlink:href=\"#DejaVuSans-114\"/>\n       <use x=\"104.589844\" xlink:href=\"#DejaVuSans-105\"/>\n       <use x=\"132.373047\" xlink:href=\"#DejaVuSans-99\"/>\n       <use x=\"187.353516\" xlink:href=\"#DejaVuSans-101\"/>\n      </g>\n     </g>\n    </g>\n    <g id=\"ytick_7\">\n     <g id=\"line2d_14\">\n      <g>\n       <use style=\"stroke:#000000;stroke-width:0.8;\" x=\"97.584375\" xlink:href=\"#me2fc975ce0\" y=\"212.90779\"/>\n      </g>\n     </g>\n     <g id=\"text_14\">\n      <!-- london -->\n      <g transform=\"translate(56.545312 216.707009)scale(0.1 -0.1)\">\n       <use xlink:href=\"#DejaVuSans-108\"/>\n       <use x=\"27.783203\" xlink:href=\"#DejaVuSans-111\"/>\n       <use x=\"88.964844\" xlink:href=\"#DejaVuSans-110\"/>\n       <use x=\"152.34375\" xlink:href=\"#DejaVuSans-100\"/>\n       <use x=\"215.820312\" xlink:href=\"#DejaVuSans-111\"/>\n       <use x=\"277.001953\" xlink:href=\"#DejaVuSans-110\"/>\n      </g>\n     </g>\n    </g>\n   </g>\n  </g>\n  <g id=\"axes_2\">\n   <g id=\"patch_3\">\n    <path clip-path=\"url(#p8101ff9cd3)\" d=\"M 382.164375 228.439219 \nL 382.164375 227.589844 \nL 382.164375 11.848594 \nL 382.164375 10.999219 \nL 393.036375 10.999219 \nL 393.036375 11.848594 \nL 393.036375 227.589844 \nL 393.036375 228.439219 \nz\n\" style=\"fill:#ffffff;stroke:#ffffff;stroke-linejoin:miter;stroke-width:0.01;\"/>\n   </g>\n   <image height=\"217\" id=\"imagee1c8cead50\" transform=\"scale(1 -1)translate(0 -217)\" width=\"11\" x=\"382\" xlink:href=\"data:image/png;base64,\niVBORw0KGgoAAAANSUhEUgAAAAsAAADZCAYAAAD2WsoCAAAABHNCSVQICAgIfAhkiAAAAVpJREFUaIHV2skNAzEMQ1HLdppI/30mLegdCMhzJogvStYsSd3P97ea162qrnbdXbsvRmcQ14o5i/hIGjmMLWmQM+V8tqQRY0ZnYKZ2B0d0hrMN/5R2v5eGFdiW6mycFdv8ViA59y/c/JIGYSRPCmBQzjfYwSHDPyLn4CCJc7LdgGHtpmUecx5S4G6/HngaJI6dbhIPSUMwcmkcwcB2i/jJNPpqKzC4N37AjMOfSqPIuW+87ok5I7OIod+GcYowQIyPauIcY94wo8rc1kYLhGV3S9LIMcNrt2Lk0rDo2lp0xgJTGOS8YrOxr2BYGg86w4a+BXcgw1jibBjBAlNi+tpjGPBkl2wKieWLqzHH0sgxL/nxZZ1cu2MF5qKzNAhjSBry6X5IGrbraPj7d/oxzIYxJI3cSYkVmGPOHdiSA3tfTEMKjA2/5TxjNtb5TMCgf1kkd52k8WKBcFL+/rwtI/gkWGAAAAAASUVORK5CYII=\" y=\"-11\"/>\n   <g id=\"matplotlib.axis_3\"/>\n   <g id=\"matplotlib.axis_4\">\n    <g id=\"ytick_8\">\n     <g id=\"line2d_15\">\n      <defs>\n       <path d=\"M 0 0 \nL 3.5 0 \n\" id=\"m84ce3d3067\" style=\"stroke:#000000;stroke-width:0.8;\"/>\n      </defs>\n      <g>\n       <use style=\"stroke:#000000;stroke-width:0.8;\" x=\"393.036375\" xlink:href=\"#m84ce3d3067\" y=\"194.289235\"/>\n      </g>\n     </g>\n     <g id=\"text_15\">\n      <!-- 0.0 -->\n      <defs>\n       <path d=\"M 31.78125 66.40625 \nQ 24.171875 66.40625 20.328125 58.90625 \nQ 16.5 51.421875 16.5 36.375 \nQ 16.5 21.390625 20.328125 13.890625 \nQ 24.171875 6.390625 31.78125 6.390625 \nQ 39.453125 6.390625 43.28125 13.890625 \nQ 47.125 21.390625 47.125 36.375 \nQ 47.125 51.421875 43.28125 58.90625 \nQ 39.453125 66.40625 31.78125 66.40625 \nz\nM 31.78125 74.21875 \nQ 44.046875 74.21875 50.515625 64.515625 \nQ 56.984375 54.828125 56.984375 36.375 \nQ 56.984375 17.96875 50.515625 8.265625 \nQ 44.046875 -1.421875 31.78125 -1.421875 \nQ 19.53125 -1.421875 13.0625 8.265625 \nQ 6.59375 17.96875 6.59375 36.375 \nQ 6.59375 54.828125 13.0625 64.515625 \nQ 19.53125 74.21875 31.78125 74.21875 \nz\n\" id=\"DejaVuSans-48\"/>\n       <path d=\"M 10.6875 12.40625 \nL 21 12.40625 \nL 21 0 \nL 10.6875 0 \nz\n\" id=\"DejaVuSans-46\"/>\n      </defs>\n      <g transform=\"translate(400.036375 198.088453)scale(0.1 -0.1)\">\n       <use xlink:href=\"#DejaVuSans-48\"/>\n       <use x=\"63.623047\" xlink:href=\"#DejaVuSans-46\"/>\n       <use x=\"95.410156\" xlink:href=\"#DejaVuSans-48\"/>\n      </g>\n     </g>\n    </g>\n    <g id=\"ytick_9\">\n     <g id=\"line2d_16\">\n      <g>\n       <use style=\"stroke:#000000;stroke-width:0.8;\" x=\"393.036375\" xlink:href=\"#m84ce3d3067\" y=\"157.631231\"/>\n      </g>\n     </g>\n     <g id=\"text_16\">\n      <!-- 0.2 -->\n      <defs>\n       <path d=\"M 19.1875 8.296875 \nL 53.609375 8.296875 \nL 53.609375 0 \nL 7.328125 0 \nL 7.328125 8.296875 \nQ 12.9375 14.109375 22.625 23.890625 \nQ 32.328125 33.6875 34.8125 36.53125 \nQ 39.546875 41.84375 41.421875 45.53125 \nQ 43.3125 49.21875 43.3125 52.78125 \nQ 43.3125 58.59375 39.234375 62.25 \nQ 35.15625 65.921875 28.609375 65.921875 \nQ 23.96875 65.921875 18.8125 64.3125 \nQ 13.671875 62.703125 7.8125 59.421875 \nL 7.8125 69.390625 \nQ 13.765625 71.78125 18.9375 73 \nQ 24.125 74.21875 28.421875 74.21875 \nQ 39.75 74.21875 46.484375 68.546875 \nQ 53.21875 62.890625 53.21875 53.421875 \nQ 53.21875 48.921875 51.53125 44.890625 \nQ 49.859375 40.875 45.40625 35.40625 \nQ 44.1875 33.984375 37.640625 27.21875 \nQ 31.109375 20.453125 19.1875 8.296875 \nz\n\" id=\"DejaVuSans-50\"/>\n      </defs>\n      <g transform=\"translate(400.036375 161.43045)scale(0.1 -0.1)\">\n       <use xlink:href=\"#DejaVuSans-48\"/>\n       <use x=\"63.623047\" xlink:href=\"#DejaVuSans-46\"/>\n       <use x=\"95.410156\" xlink:href=\"#DejaVuSans-50\"/>\n      </g>\n     </g>\n    </g>\n    <g id=\"ytick_10\">\n     <g id=\"line2d_17\">\n      <g>\n       <use style=\"stroke:#000000;stroke-width:0.8;\" x=\"393.036375\" xlink:href=\"#m84ce3d3067\" y=\"120.973228\"/>\n      </g>\n     </g>\n     <g id=\"text_17\">\n      <!-- 0.4 -->\n      <defs>\n       <path d=\"M 37.796875 64.3125 \nL 12.890625 25.390625 \nL 37.796875 25.390625 \nz\nM 35.203125 72.90625 \nL 47.609375 72.90625 \nL 47.609375 25.390625 \nL 58.015625 25.390625 \nL 58.015625 17.1875 \nL 47.609375 17.1875 \nL 47.609375 0 \nL 37.796875 0 \nL 37.796875 17.1875 \nL 4.890625 17.1875 \nL 4.890625 26.703125 \nz\n\" id=\"DejaVuSans-52\"/>\n      </defs>\n      <g transform=\"translate(400.036375 124.772447)scale(0.1 -0.1)\">\n       <use xlink:href=\"#DejaVuSans-48\"/>\n       <use x=\"63.623047\" xlink:href=\"#DejaVuSans-46\"/>\n       <use x=\"95.410156\" xlink:href=\"#DejaVuSans-52\"/>\n      </g>\n     </g>\n    </g>\n    <g id=\"ytick_11\">\n     <g id=\"line2d_18\">\n      <g>\n       <use style=\"stroke:#000000;stroke-width:0.8;\" x=\"393.036375\" xlink:href=\"#m84ce3d3067\" y=\"84.315225\"/>\n      </g>\n     </g>\n     <g id=\"text_18\">\n      <!-- 0.6 -->\n      <defs>\n       <path d=\"M 33.015625 40.375 \nQ 26.375 40.375 22.484375 35.828125 \nQ 18.609375 31.296875 18.609375 23.390625 \nQ 18.609375 15.53125 22.484375 10.953125 \nQ 26.375 6.390625 33.015625 6.390625 \nQ 39.65625 6.390625 43.53125 10.953125 \nQ 47.40625 15.53125 47.40625 23.390625 \nQ 47.40625 31.296875 43.53125 35.828125 \nQ 39.65625 40.375 33.015625 40.375 \nz\nM 52.59375 71.296875 \nL 52.59375 62.3125 \nQ 48.875 64.0625 45.09375 64.984375 \nQ 41.3125 65.921875 37.59375 65.921875 \nQ 27.828125 65.921875 22.671875 59.328125 \nQ 17.53125 52.734375 16.796875 39.40625 \nQ 19.671875 43.65625 24.015625 45.921875 \nQ 28.375 48.1875 33.59375 48.1875 \nQ 44.578125 48.1875 50.953125 41.515625 \nQ 57.328125 34.859375 57.328125 23.390625 \nQ 57.328125 12.15625 50.6875 5.359375 \nQ 44.046875 -1.421875 33.015625 -1.421875 \nQ 20.359375 -1.421875 13.671875 8.265625 \nQ 6.984375 17.96875 6.984375 36.375 \nQ 6.984375 53.65625 15.1875 63.9375 \nQ 23.390625 74.21875 37.203125 74.21875 \nQ 40.921875 74.21875 44.703125 73.484375 \nQ 48.484375 72.75 52.59375 71.296875 \nz\n\" id=\"DejaVuSans-54\"/>\n      </defs>\n      <g transform=\"translate(400.036375 88.114444)scale(0.1 -0.1)\">\n       <use xlink:href=\"#DejaVuSans-48\"/>\n       <use x=\"63.623047\" xlink:href=\"#DejaVuSans-46\"/>\n       <use x=\"95.410156\" xlink:href=\"#DejaVuSans-54\"/>\n      </g>\n     </g>\n    </g>\n    <g id=\"ytick_12\">\n     <g id=\"line2d_19\">\n      <g>\n       <use style=\"stroke:#000000;stroke-width:0.8;\" x=\"393.036375\" xlink:href=\"#m84ce3d3067\" y=\"47.657222\"/>\n      </g>\n     </g>\n     <g id=\"text_19\">\n      <!-- 0.8 -->\n      <defs>\n       <path d=\"M 31.78125 34.625 \nQ 24.75 34.625 20.71875 30.859375 \nQ 16.703125 27.09375 16.703125 20.515625 \nQ 16.703125 13.921875 20.71875 10.15625 \nQ 24.75 6.390625 31.78125 6.390625 \nQ 38.8125 6.390625 42.859375 10.171875 \nQ 46.921875 13.96875 46.921875 20.515625 \nQ 46.921875 27.09375 42.890625 30.859375 \nQ 38.875 34.625 31.78125 34.625 \nz\nM 21.921875 38.8125 \nQ 15.578125 40.375 12.03125 44.71875 \nQ 8.5 49.078125 8.5 55.328125 \nQ 8.5 64.0625 14.71875 69.140625 \nQ 20.953125 74.21875 31.78125 74.21875 \nQ 42.671875 74.21875 48.875 69.140625 \nQ 55.078125 64.0625 55.078125 55.328125 \nQ 55.078125 49.078125 51.53125 44.71875 \nQ 48 40.375 41.703125 38.8125 \nQ 48.828125 37.15625 52.796875 32.3125 \nQ 56.78125 27.484375 56.78125 20.515625 \nQ 56.78125 9.90625 50.3125 4.234375 \nQ 43.84375 -1.421875 31.78125 -1.421875 \nQ 19.734375 -1.421875 13.25 4.234375 \nQ 6.78125 9.90625 6.78125 20.515625 \nQ 6.78125 27.484375 10.78125 32.3125 \nQ 14.796875 37.15625 21.921875 38.8125 \nz\nM 18.3125 54.390625 \nQ 18.3125 48.734375 21.84375 45.5625 \nQ 25.390625 42.390625 31.78125 42.390625 \nQ 38.140625 42.390625 41.71875 45.5625 \nQ 45.3125 48.734375 45.3125 54.390625 \nQ 45.3125 60.0625 41.71875 63.234375 \nQ 38.140625 66.40625 31.78125 66.40625 \nQ 25.390625 66.40625 21.84375 63.234375 \nQ 18.3125 60.0625 18.3125 54.390625 \nz\n\" id=\"DejaVuSans-56\"/>\n      </defs>\n      <g transform=\"translate(400.036375 51.456441)scale(0.1 -0.1)\">\n       <use xlink:href=\"#DejaVuSans-48\"/>\n       <use x=\"63.623047\" xlink:href=\"#DejaVuSans-46\"/>\n       <use x=\"95.410156\" xlink:href=\"#DejaVuSans-56\"/>\n      </g>\n     </g>\n    </g>\n    <g id=\"ytick_13\">\n     <g id=\"line2d_20\">\n      <g>\n       <use style=\"stroke:#000000;stroke-width:0.8;\" x=\"393.036375\" xlink:href=\"#m84ce3d3067\" y=\"10.999219\"/>\n      </g>\n     </g>\n     <g id=\"text_20\">\n      <!-- 1.0 -->\n      <defs>\n       <path d=\"M 12.40625 8.296875 \nL 28.515625 8.296875 \nL 28.515625 63.921875 \nL 10.984375 60.40625 \nL 10.984375 69.390625 \nL 28.421875 72.90625 \nL 38.28125 72.90625 \nL 38.28125 8.296875 \nL 54.390625 8.296875 \nL 54.390625 0 \nL 12.40625 0 \nz\n\" id=\"DejaVuSans-49\"/>\n      </defs>\n      <g transform=\"translate(400.036375 14.798437)scale(0.1 -0.1)\">\n       <use xlink:href=\"#DejaVuSans-49\"/>\n       <use x=\"63.623047\" xlink:href=\"#DejaVuSans-46\"/>\n       <use x=\"95.410156\" xlink:href=\"#DejaVuSans-48\"/>\n      </g>\n     </g>\n    </g>\n   </g>\n   <g id=\"patch_4\">\n    <path d=\"M 382.164375 228.439219 \nL 382.164375 227.589844 \nL 382.164375 11.848594 \nL 382.164375 10.999219 \nL 393.036375 10.999219 \nL 393.036375 11.848594 \nL 393.036375 227.589844 \nL 393.036375 228.439219 \nz\n\" style=\"fill:none;\"/>\n   </g>\n  </g>\n </g>\n <defs>\n  <clipPath id=\"pb8c2fbfb40\">\n   <rect height=\"217.44\" width=\"267.84\" x=\"97.584375\" y=\"10.999219\"/>\n  </clipPath>\n  <clipPath id=\"p8101ff9cd3\">\n   <rect height=\"217.44\" width=\"10.872\" x=\"382.164375\" y=\"10.999219\"/>\n  </clipPath>\n </defs>\n</svg>\n",
      "image/png": "[encoded data removed]"
     },
     "metadata": {
      "needs_background": "light"
     }
    }
   ],
   "source": [
    "new = preprocessing(df, 'train')\n",
    "X_train, X_test = train_test_split(new, test_size=0.2, random_state=0)\n",
    "X_train = X_train[X_train['price'] < 120]\n",
    "y_train = X_train['price']\n",
    "X_train = X_train.drop(['price',], axis = 1)\n",
    "X_train[(np.abs(stats.zscore(X_train)) < 3).all(axis=1)]\n",
    "X_test = X_test[X_test['price'] > 0]\n",
    "y_test = X_test['price']\n",
    "X_test = X_test.drop(['price',], axis = 1)\n",
    "min_max_scaler = MinMaxScaler()\n",
    "X_train_ss = min_max_scaler.fit_transform(X_train)\n",
    "X_test_ss = min_max_scaler.transform(X_test)\n",
    "weight = round(1 / y_train, 2)\n",
    "logisticRegr = CatBoostRegressor()\n",
    "logisticRegr.fit(X_train_ss, np.log1p(y_train), sample_weight = weight, verbose=False)\n",
    "y_pred = np.expm1(logisticRegr.predict(X_test_ss))\n",
    "print (mean_absolute_percentage_error(y_test,y_pred))\n"
   ]
  },
  {
   "cell_type": "code",
   "execution_count": 25,
   "metadata": {},
   "outputs": [
    {
     "output_type": "execute_result",
     "data": {
      "text/plain": [
       "                          0\n",
       "accommodates      24.927694\n",
       "security_deposit   5.837217\n",
       "cleaning_fee      19.236201\n",
       "extra_people       8.729679\n",
       "minimum_nights    13.192764\n",
       "london            28.076446"
      ],
      "text/html": "<div>\n<style scoped>\n    .dataframe tbody tr th:only-of-type {\n        vertical-align: middle;\n    }\n\n    .dataframe tbody tr th {\n        vertical-align: top;\n    }\n\n    .dataframe thead th {\n        text-align: right;\n    }\n</style>\n<table border=\"1\" class=\"dataframe\">\n  <thead>\n    <tr style=\"text-align: right;\">\n      <th></th>\n      <th>0</th>\n    </tr>\n  </thead>\n  <tbody>\n    <tr>\n      <th>accommodates</th>\n      <td>24.927694</td>\n    </tr>\n    <tr>\n      <th>security_deposit</th>\n      <td>5.837217</td>\n    </tr>\n    <tr>\n      <th>cleaning_fee</th>\n      <td>19.236201</td>\n    </tr>\n    <tr>\n      <th>extra_people</th>\n      <td>8.729679</td>\n    </tr>\n    <tr>\n      <th>minimum_nights</th>\n      <td>13.192764</td>\n    </tr>\n    <tr>\n      <th>london</th>\n      <td>28.076446</td>\n    </tr>\n  </tbody>\n</table>\n</div>"
     },
     "metadata": {},
     "execution_count": 25
    }
   ],
   "source": [
    "ft_weights_xgb_reg = pd.DataFrame(logisticRegr.feature_importances_, index=X_train.columns)\n",
    "ft_weights_xgb_reg"
   ]
  },
  {
   "cell_type": "code",
   "execution_count": 98,
   "metadata": {},
   "outputs": [
    {
     "output_type": "stream",
     "name": "stdout",
     "text": [
      "72.51819312481861\n"
     ]
    }
   ],
   "source": [
    "x_test = [5,0,1,0,0,3]\n",
    "x_arr = np.array(x_test)\n",
    "y = np.expm1(logisticRegr.predict(x_arr))\n",
    "print(y)\n"
   ]
  },
  {
   "cell_type": "code",
   "execution_count": 104,
   "metadata": {},
   "outputs": [],
   "source": [
    "with open('logisticRegr.pkl', 'wb') as output_file:\n",
    "    pickle.dump(logisticRegr, output_file)"
   ]
  },
  {
   "cell_type": "code",
   "execution_count": 259,
   "metadata": {},
   "outputs": [],
   "source": [
    "df_test = pd.read_csv('test.csv')\n",
    "df_test = preprocessing(df_test,'test')\n"
   ]
  },
  {
   "cell_type": "code",
   "execution_count": 260,
   "metadata": {},
   "outputs": [],
   "source": [
    "df_test_ss = min_max_scaler.transform(df_test)"
   ]
  },
  {
   "cell_type": "code",
   "execution_count": 261,
   "metadata": {},
   "outputs": [],
   "source": [
    "df_sample = pd.read_csv('sample_submission.csv')"
   ]
  },
  {
   "cell_type": "code",
   "execution_count": 262,
   "metadata": {},
   "outputs": [],
   "source": [
    "df_sample['price'] = logisticRegr.predict(df_test_ss)"
   ]
  },
  {
   "cell_type": "code",
   "execution_count": 263,
   "metadata": {},
   "outputs": [],
   "source": [
    "df_sample.to_csv('total.csv', header=True, index=False, encoding='utf-8')"
   ]
  },
  {
   "cell_type": "code",
   "execution_count": 264,
   "metadata": {},
   "outputs": [
    {
     "output_type": "execute_result",
     "data": {
      "text/plain": [
       "      id      price\n",
       "0   9554  34.351536\n",
       "1  11076  59.689606\n",
       "2  13913  37.243790\n",
       "3  17402  86.653732\n",
       "4  24328  99.640793"
      ],
      "text/html": "<div>\n<style scoped>\n    .dataframe tbody tr th:only-of-type {\n        vertical-align: middle;\n    }\n\n    .dataframe tbody tr th {\n        vertical-align: top;\n    }\n\n    .dataframe thead th {\n        text-align: right;\n    }\n</style>\n<table border=\"1\" class=\"dataframe\">\n  <thead>\n    <tr style=\"text-align: right;\">\n      <th></th>\n      <th>id</th>\n      <th>price</th>\n    </tr>\n  </thead>\n  <tbody>\n    <tr>\n      <th>0</th>\n      <td>9554</td>\n      <td>34.351536</td>\n    </tr>\n    <tr>\n      <th>1</th>\n      <td>11076</td>\n      <td>59.689606</td>\n    </tr>\n    <tr>\n      <th>2</th>\n      <td>13913</td>\n      <td>37.243790</td>\n    </tr>\n    <tr>\n      <th>3</th>\n      <td>17402</td>\n      <td>86.653732</td>\n    </tr>\n    <tr>\n      <th>4</th>\n      <td>24328</td>\n      <td>99.640793</td>\n    </tr>\n  </tbody>\n</table>\n</div>"
     },
     "metadata": {},
     "execution_count": 264
    }
   ],
   "source": [
    "df_sample.head()"
   ]
  },
  {
   "cell_type": "code",
   "execution_count": null,
   "metadata": {},
   "outputs": [],
   "source": []
  }
 ]
}